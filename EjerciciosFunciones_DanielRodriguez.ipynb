{
  "nbformat": 4,
  "nbformat_minor": 0,
  "metadata": {
    "colab": {
      "provenance": []
    },
    "kernelspec": {
      "name": "python3",
      "display_name": "Python 3"
    },
    "language_info": {
      "name": "python"
    }
  },
  "cells": [
    {
      "cell_type": "code",
      "execution_count": null,
      "metadata": {
        "id": "zlTH58d8TFR1"
      },
      "outputs": [],
      "source": [
        "def calcularEdad (anoactual, anonacimiento):\n",
        "    edad = anoactual - anonacimiento\n",
        "    return edad\n",
        "ano1=int(input(\"Dame el año actual: \"))\n",
        "edad1=int(input(\"Dame el año de nacimiento: \"))\n",
        "ano2=int(input(\"Dame el año actual: \"))\n",
        "edad2=int(input(\"Dame el año de nacimiento: \"))\n",
        "miedad=calcularEdad(ano1,edad1)\n",
        "edadamigo=calcularEdad(ano2,edad2)\n",
        "print(f\"La edad mia es: {miedad}, y la de mi amigo es: {edadamigo} \")"
      ]
    },
    {
      "cell_type": "code",
      "source": [
        "def informacionPersonal ():\n",
        "    name = \"Juana de Arco\"\n",
        "    age = 19\n",
        "    country = \"Francia\" \n",
        "    info=print(name + \", de \" + country + \", tiene \" + str(age) + \" años de edad.\")\n",
        "    return info\n",
        "informacionPersonal()"
      ],
      "metadata": {
        "id": "e_Pa48P8TLA-"
      },
      "execution_count": null,
      "outputs": []
    }
  ]
}