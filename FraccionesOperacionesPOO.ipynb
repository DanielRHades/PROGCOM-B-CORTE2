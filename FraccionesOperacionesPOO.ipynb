{
  "nbformat": 4,
  "nbformat_minor": 0,
  "metadata": {
    "colab": {
      "provenance": []
    },
    "kernelspec": {
      "name": "python3",
      "display_name": "Python 3"
    },
    "language_info": {
      "name": "python"
    }
  },
  "cells": [
    {
      "cell_type": "code",
      "execution_count": null,
      "metadata": {
        "id": "_yU5dbQgifjI"
      },
      "outputs": [],
      "source": [
        "class yo:\n",
        "  def __init__(self,nombre,edad,carrera,signo):\n",
        "    self.nombre=nombre\n",
        "    self.edad=edad\n",
        "    self.carrera=carrera\n",
        "    self.signo=signo\n",
        "general=yo(\"Daniel\",18,\"Ingenieria en Sistemas.\",\"geminis\")\n",
        "general.__dict__"
      ]
    },
    {
      "cell_type": "code",
      "source": [
        "class Fraccion:\n",
        "  def __init__(self,num,den,pot):\n",
        "    self.num=num\n",
        "    self.den=den\n",
        "    self.pot=pot\n",
        "\n",
        "  def potencia(self):\n",
        "    num=self.num**self.pot\n",
        "    den=self.den**self.pot\n",
        "    pot=self.pot\n",
        "    c=Fraccion(num,den,pot)\n",
        "    print(f'{c.num}/{c.den}')\n",
        "    return c\n",
        "  def suma(self,s):\n",
        "    if self.den==0 or s.den==0:\n",
        "      print(\"No se puede dividir entre 0\")\n",
        "    else:\n",
        "      if self.den!=s.den:\n",
        "        num=(self.num*s.den)+(self.den*s.num)\n",
        "        den=self.den*s.den\n",
        "      else:\n",
        "        num=(self.num*s.den)+(self.den*s.num)\n",
        "        den=self.den\n",
        "        f=Fraccion(num,den,1)\n",
        "        print(f\"{f.num}/{f.den}\")\n",
        "        return f\n",
        "\n",
        "  def resta(self,s):\n",
        "   if self.den==0 or s.den==0:\n",
        "    print(\"No se puede dividir entre 0.\")\n",
        "   else:\n",
        "     if self.den!=s.den:\n",
        "       num=(self.num*s.den)-(self.den*s.num)\n",
        "       den=self.den*s.den\n",
        "     else:\n",
        "      num=(self.num*s.den)-(self.den*s.num)\n",
        "      den=self.den\n",
        "      f=Fraccion(num,den,1)\n",
        "      print(f\"{f.num} / {f.den}\")\n",
        "      return f\n",
        "  def producto(self,s):\n",
        "   num=self.num*s.num\n",
        "   den=self.den*s.den\n",
        "   fr=Fraccion(num,den,1)\n",
        "   return f\"{fr.num}/{fr.den}\"\n",
        "  def div(self,c):\n",
        "    num=self.num*c.den\n",
        "    den=self.den*c.num\n",
        "    frac=Fraccion(num,den,1)\n",
        "    return f\"{frac.num}/{frac.den}\"\n"
      ],
      "metadata": {
        "id": "art_AR-vl_9L"
      },
      "execution_count": 26,
      "outputs": []
    },
    {
      "cell_type": "code",
      "source": [
        "s=Fraccion(2,5,8)"
      ],
      "metadata": {
        "id": "2riRrCvB7D0f"
      },
      "execution_count": null,
      "outputs": []
    },
    {
      "cell_type": "code",
      "source": [
        "s.__dict__"
      ],
      "metadata": {
        "id": "p34_cELC7D22"
      },
      "execution_count": null,
      "outputs": []
    },
    {
      "cell_type": "code",
      "source": [
        "s.potencia()"
      ],
      "metadata": {
        "id": "X64hp_Z87D5H"
      },
      "execution_count": null,
      "outputs": []
    },
    {
      "cell_type": "code",
      "source": [
        "yo=t.resta(s)"
      ],
      "metadata": {
        "id": "25vCVs8Q7D7m"
      },
      "execution_count": null,
      "outputs": []
    },
    {
      "cell_type": "code",
      "source": [
        "t.suma(s)"
      ],
      "metadata": {
        "id": "Emk9RAz77D92"
      },
      "execution_count": null,
      "outputs": []
    },
    {
      "cell_type": "code",
      "source": [
        "t.producto"
      ],
      "metadata": {
        "id": "NA95lN3n7J88"
      },
      "execution_count": null,
      "outputs": []
    },
    {
      "cell_type": "code",
      "source": [
        "a=t.div(s)"
      ],
      "metadata": {
        "id": "4-h9C3CD7NC8"
      },
      "execution_count": null,
      "outputs": []
    },
    {
      "cell_type": "code",
      "source": [
        "print(a)"
      ],
      "metadata": {
        "id": "JWAeqZEz7NME"
      },
      "execution_count": null,
      "outputs": []
    }
  ]
}