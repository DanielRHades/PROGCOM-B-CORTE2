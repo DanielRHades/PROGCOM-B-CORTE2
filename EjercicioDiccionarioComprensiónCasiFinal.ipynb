{
  "nbformat": 4,
  "nbformat_minor": 0,
  "metadata": {
    "colab": {
      "provenance": []
    },
    "kernelspec": {
      "name": "python3",
      "display_name": "Python 3"
    },
    "language_info": {
      "name": "python"
    }
  },
  "cells": [
    {
      "cell_type": "code",
      "execution_count": null,
      "metadata": {
        "id": "84IXQlWEgLRw"
      },
      "outputs": [],
      "source": [
        "#Por comprensión\n",
        "import random\n",
        "diccionario=[\"cliente 1\",\"cliente 2\",\"cliente 3\",\"cliente 4\",\"cliente 5\"]\n",
        "tienda={diccionario: random.randint(1000,100000) for diccionario in diccionario}\n",
        "tienda_sort=sorted(tienda.values())\n",
        "mayor=tienda_sort[-1]\n",
        "mayor1=tienda_sort[4::]\n",
        "cliente=list(tienda.values()).index(mayor)\n",
        "if cliente==0:\n",
        "  a=\"cliente 1\"\n",
        "if cliente==1:\n",
        "  a=\"cliente 2\"\n",
        "if cliente==2:\n",
        "  a=\"cliente 3\"\n",
        "if cliente==3:\n",
        "  a=\"cliente 4\"\n",
        "if cliente==4:\n",
        "  a=\"cliente 5\"\n",
        "oferta={producto*0.8 for producto in mayor1}\n",
        "print(f\"El {a} tuvo la mayor compra con un valor de: {mayor}, por lo tanto obtuvo un descuento del 20%, su total fue: {oferta}\")"
      ]
    },
    {
      "cell_type": "code",
      "source": [
        "#Por función\n",
        "import random\n",
        "diccionario=[\"cliente 1\",\"cliente 2\",\"cliente 3\",\"cliente 4\",\"cliente 5\"]\n",
        "def cositas (a):\n",
        " tienda={diccionario: random.randint(1000,100000) for diccionario in diccionario}\n",
        " tienda_sort=sorted(tienda.values())\n",
        " mayor=tienda_sort[-1]\n",
        " mayor1=tienda_sort[4::]\n",
        " cliente=list(tienda.values()).index(mayor)\n",
        " if cliente==0:\n",
        "   a=\"cliente 1\"\n",
        " if cliente==1:\n",
        "   a=\"cliente 2\"\n",
        " if cliente==2:\n",
        "   a=\"cliente 3\"\n",
        " if cliente==3:\n",
        "   a=\"cliente 4\"\n",
        " if cliente==4:\n",
        "   a=\"cliente 5\"\n",
        " oferta={producto*0.8 for producto in mayor1}\n",
        " print(f\"El {a} tuvo la mayor compra con un valor de: {mayor}, por lo tanto obtuvo un descuento del 20%, su total fue: {oferta}\")\n",
        "cositas(diccionario)\n"
      ],
      "metadata": {
        "colab": {
          "base_uri": "https://localhost:8080/"
        },
        "id": "O3JoCeotE7Qb",
        "outputId": "c5e7bd4a-c78c-475e-8e9f-56ff0cf23220"
      },
      "execution_count": null,
      "outputs": [
        {
          "output_type": "stream",
          "name": "stdout",
          "text": [
            "El cliente 3 tuvo la mayor compra con un valor de: 73212, por lo tanto obtuvo un descuento del 20%, su total fue: {58569.600000000006}\n"
          ]
        }
      ]
    },
    {
      "cell_type": "code",
      "source": [
        "#Por lambda\n",
        "import random\n",
        "diccionario=[\"cliente 1\",\"cliente 2\",\"cliente 3\",\"cliente 4\",\"cliente 5\"]\n",
        "tienda=(dict(map(lambda tienda:(tienda,random.randint(1000,100000)),diccionario)))\n",
        "tienda_sort=sorted(tienda.values())\n",
        "mayor=tienda_sort[-1]\n",
        "mayor1=tienda_sort[4::]\n",
        "cliente=list(tienda.values()).index(mayor)\n",
        "oferta={producto*0.8 for producto in mayor1}\n",
        "def get_key (val):\n",
        "  for key,value in tienda.items():\n",
        "    if val==value:\n",
        "     return key\n",
        "print(f\"El {get_key(mayor)} tuvo la mayor compra con un valor de: {mayor}, por lo tanto obtuvo un descuento del 20%, su total fue: {oferta}\")"
      ],
      "metadata": {
        "id": "eDuj8cuxFX7p"
      },
      "execution_count": null,
      "outputs": []
    }
  ]
}