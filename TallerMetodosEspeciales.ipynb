{
  "nbformat": 4,
  "nbformat_minor": 0,
  "metadata": {
    "colab": {
      "provenance": []
    },
    "kernelspec": {
      "name": "python3",
      "display_name": "Python 3"
    },
    "language_info": {
      "name": "python"
    }
  },
  "cells": [
    {
      "cell_type": "code",
      "execution_count": null,
      "metadata": {
        "id": "kx580XusSwm2"
      },
      "outputs": [],
      "source": [
        "#Daniel Leonardo Rodriguez Hernandez\n",
        "#Ejercicio1\n",
        "class Empleado:\n",
        " def __init__(self,nombre,sueldo):\n",
        "    self.nombre=nombre\n",
        "    self.sueldo=sueldo\n",
        " def __repr__(self):\n",
        "    return f\"{self.nombre} tiene un sueldo de: {self.sueldo}\"\n",
        " def impuesto(self):\n",
        "   if self.sueldo>8000:\n",
        "      return f\"{self.nombre} con un salario de: {self.sueldo} debe pagar impuestos.\"\n",
        "   else:\n",
        "    return f\"{self.nombre} con un salario de: {self.sueldo} no debe pagar impuestos.\"\n",
        "cositas= Empleado(str(input(\"Dime tu nombre: \")),int(input(\"Dime tu salario: \")))\n",
        "print(cositas)\n",
        "cositas.impuesto()"
      ]
    },
    {
      "cell_type": "code",
      "source": [
        "#Ejercicio2\n",
        "class Ninja:\n",
        "  def __init__(self,hp,resistencia,XP,vidas):\n",
        "    self.hp=hp\n",
        "    self.resistencia=resistencia\n",
        "    self.XP=XP\n",
        "    self.vidas=vidas\n",
        "  def __str__(self):\n",
        "    return f\"El ninja tiene:\\n HP: {self.hp}\\n Resistencia: {self.resistencia}\\n XP: {self.XP}\\n Vidas: {self.vidas}\"\n",
        "cosotas= Ninja(input(\"Dime la cantidad de vida: \"),input(\"Dime la cantidad de resistencia: \"),input(\"Dime la cantidad de XP: \"),input(\"Dime la cantidad de vidas: \"))\n",
        "print(cosotas)"
      ],
      "metadata": {
        "id": "h-gkgWHgZCr5"
      },
      "execution_count": null,
      "outputs": []
    },
    {
      "cell_type": "code",
      "source": [
        "#Ejercicio3\n",
        "class Cuenta:\n",
        "  def __init__"
      ],
      "metadata": {
        "id": "LHsQX5HYa69K"
      },
      "execution_count": null,
      "outputs": []
    }
  ]
}