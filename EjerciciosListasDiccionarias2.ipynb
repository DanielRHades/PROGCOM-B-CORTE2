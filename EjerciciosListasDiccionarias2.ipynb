{
  "nbformat": 4,
  "nbformat_minor": 0,
  "metadata": {
    "colab": {
      "provenance": []
    },
    "kernelspec": {
      "name": "python3",
      "display_name": "Python 3"
    },
    "language_info": {
      "name": "python"
    }
  },
  "cells": [
    {
      "cell_type": "markdown",
      "source": [
        "#Listas por compresion"
      ],
      "metadata": {
        "id": "viRJhqhsk4lA"
      }
    },
    {
      "cell_type": "code",
      "execution_count": null,
      "metadata": {
        "id": "Jv6PZbftkrlm",
        "colab": {
          "base_uri": "https://localhost:8080/"
        },
        "outputId": "11f012b6-926e-4c3a-be72-d6dafd45feb5"
      },
      "outputs": [
        {
          "output_type": "stream",
          "name": "stdout",
          "text": [
            "Hasta que número quieres imprimir los pares e impares: 20\n",
            "[0, 2, 4, 6, 8, 10, 12, 14, 16, 18, 20]\n",
            "[1, 3, 5, 7, 9, 11, 13, 15, 17, 19]\n"
          ]
        }
      ],
      "source": [
        "n=int(input(\"Hasta que número quieres imprimir los pares e impares: \"))\n",
        "pares=[número for número in range(0,n+1) if número%2==0]\n",
        "print(pares)\n",
        "impares=[número for número in range(0,n+1) if número%2!=0]\n",
        "print(impares)"
      ]
    },
    {
      "cell_type": "code",
      "source": [
        "num=int(input(\"Hasta que número quieres imprimir los pares e impares: \"))\n",
        "def hola(n):\n",
        "  pares=[número for número in range(0,n+1) if número%2==0]\n",
        "  print(pares)\n",
        "  impares=[número for número in range(0,n+1) if número%2!=0]\n",
        "  print(impares)\n",
        "hola(num)"
      ],
      "metadata": {
        "id": "VtVJFoeWk0n4",
        "colab": {
          "base_uri": "https://localhost:8080/"
        },
        "outputId": "33d9e560-2390-4b6d-9871-07162cda1ef9"
      },
      "execution_count": null,
      "outputs": [
        {
          "output_type": "stream",
          "name": "stdout",
          "text": [
            "Hasta que número quieres imprimir los pares e impares: 20\n",
            "[0, 2, 4, 6, 8, 10, 12, 14, 16, 18, 20]\n",
            "[1, 3, 5, 7, 9, 11, 13, 15, 17, 19]\n"
          ]
        }
      ]
    },
    {
      "cell_type": "code",
      "source": [
        "num=int(input(\"Hasta que número quieres imprimir los pares e impares: \"))\n",
        "mi_lista=[n for n in range(0,num+1)]\n",
        "impares=list(filter(lambda num:num%2==0,mi_lista))\n",
        "print(pares)\n",
        "pares=list(filter(lambda num:num%2!=0,mi_lista))\n",
        "print(impares)"
      ],
      "metadata": {
        "id": "hGt9BR2lk2rB",
        "colab": {
          "base_uri": "https://localhost:8080/"
        },
        "outputId": "363c90bb-a02a-4bb2-967c-dbdd05648959"
      },
      "execution_count": null,
      "outputs": [
        {
          "output_type": "stream",
          "name": "stdout",
          "text": [
            "Hasta que número quieres imprimir los pares e impares: 20\n",
            "[0, 2, 4, 6, 8, 10, 12, 14, 16, 18, 20]\n",
            "[0, 2, 4, 6, 8, 10, 12, 14, 16, 18, 20]\n"
          ]
        }
      ]
    },
    {
      "cell_type": "code",
      "source": [
        "numbers=[1,2,3,4]\n",
        "results=[]\n",
        "for n in numbers:\n",
        "  results.append(n+1)\n",
        "results"
      ],
      "metadata": {
        "id": "hz5nRtbDnIgN",
        "colab": {
          "base_uri": "https://localhost:8080/"
        },
        "outputId": "320e56f4-2631-4575-d174-67bc9868d1f9"
      },
      "execution_count": null,
      "outputs": [
        {
          "output_type": "execute_result",
          "data": {
            "text/plain": [
              "[2, 3, 4, 5]"
            ]
          },
          "metadata": {},
          "execution_count": 23
        }
      ]
    },
    {
      "cell_type": "code",
      "source": [
        "numbers=[1,2,3,4]\n",
        "results=[n+1 for n in numbers if n<5]\n",
        "results"
      ],
      "metadata": {
        "id": "P9RwK5jZnvNq",
        "colab": {
          "base_uri": "https://localhost:8080/"
        },
        "outputId": "d6aef0a6-07eb-4c00-fcba-0f1a2a545f70"
      },
      "execution_count": null,
      "outputs": [
        {
          "output_type": "execute_result",
          "data": {
            "text/plain": [
              "[2, 3, 4, 5]"
            ]
          },
          "metadata": {},
          "execution_count": 22
        }
      ]
    },
    {
      "cell_type": "code",
      "source": [
        "results2=lambda numbers:results\n",
        "print(results2(numbers))"
      ],
      "metadata": {
        "id": "RqipPI3Wn6BQ",
        "colab": {
          "base_uri": "https://localhost:8080/"
        },
        "outputId": "58532af7-3a19-4de1-9ae7-9d3806eaf934"
      },
      "execution_count": null,
      "outputs": [
        {
          "output_type": "stream",
          "name": "stdout",
          "text": [
            "[2, 3, 4, 5]\n"
          ]
        }
      ]
    },
    {
      "cell_type": "code",
      "source": [
        "def perfecto(número):\n",
        "  perf=0\n",
        "  for i in range(1,número):\n",
        "    if número%i==0:\n",
        "      perf+=i\n",
        "  if perf==número:\n",
        "    print(\"es número perfecto\")\n",
        "    return True\n",
        "  else:\n",
        "    print(\"no es número perfecto\")\n",
        "número=6\n",
        "perfecto(número)\n"
      ],
      "metadata": {
        "id": "lUn14XD-lnz9",
        "colab": {
          "base_uri": "https://localhost:8080/"
        },
        "outputId": "a0737b74-455e-4d67-f2d0-6388c8d84397"
      },
      "execution_count": null,
      "outputs": [
        {
          "output_type": "stream",
          "name": "stdout",
          "text": [
            "es número perfecto\n"
          ]
        },
        {
          "output_type": "execute_result",
          "data": {
            "text/plain": [
              "True"
            ]
          },
          "metadata": {},
          "execution_count": 17
        }
      ]
    },
    {
      "cell_type": "code",
      "source": [
        "def números():\n",
        "  a=int(input(\"Ingresa un número: \"))\n",
        "  b=int(input(\"Ingresa un número: \"))\n",
        "  c=int(input(\"Ingresa un número: \"))\n",
        "  d=int(input(\"Ingresa un número: \"))\n",
        "  perfect=[a,b,c,d]\n",
        "\n",
        "  perfect1=[elemento for elemento in perfect if perfecto(elemento)==True]\n",
        "números()"
      ],
      "metadata": {
        "colab": {
          "base_uri": "https://localhost:8080/"
        },
        "id": "tSHJuMf6oX7W",
        "outputId": "89dfb0c8-a3bc-4afd-d863-ffcb68bc1055"
      },
      "execution_count": null,
      "outputs": [
        {
          "output_type": "stream",
          "name": "stdout",
          "text": [
            "Ingresa un número: 1\n",
            "Ingresa un número: 2\n",
            "Ingresa un número: 3\n",
            "Ingresa un número: 6\n",
            "no es número perfecto\n",
            "no es número perfecto\n",
            "no es número perfecto\n",
            "es número perfecto\n"
          ]
        }
      ]
    },
    {
      "cell_type": "code",
      "source": [
        "lista=[2,3,6,4]\n",
        "perfect2=list(map(lambda elemento:perfecto(elemento)==True,lista))\n",
        "perfect2"
      ],
      "metadata": {
        "colab": {
          "base_uri": "https://localhost:8080/"
        },
        "id": "F7LC7PbPqWcB",
        "outputId": "7c1e7824-3400-4fca-c660-00871adee289"
      },
      "execution_count": null,
      "outputs": [
        {
          "output_type": "stream",
          "name": "stdout",
          "text": [
            "no es número perfecto\n",
            "no es número perfecto\n",
            "es número perfecto\n",
            "no es número perfecto\n"
          ]
        },
        {
          "output_type": "execute_result",
          "data": {
            "text/plain": [
              "[False, False, True, False]"
            ]
          },
          "metadata": {},
          "execution_count": 20
        }
      ]
    },
    {
      "cell_type": "code",
      "source": [
        "import random\n",
        "número1=[random.randint(0,2000) for x in range(100)]\n",
        "número2=[random.randint(0,2000) for x in range(100)]\n",
        "comun=[]\n",
        "for a in número1:\n",
        "  for b in número2:\n",
        "    if a==b:\n",
        "      comun.append(a)\n",
        "print(comun)"
      ],
      "metadata": {
        "colab": {
          "base_uri": "https://localhost:8080/"
        },
        "id": "TFm-DLewolHu",
        "outputId": "8b4b1a2b-6ff2-4370-f09d-529e36a9cce0"
      },
      "execution_count": null,
      "outputs": [
        {
          "output_type": "stream",
          "name": "stdout",
          "text": [
            "[1148, 1176, 727]\n"
          ]
        }
      ]
    },
    {
      "cell_type": "code",
      "source": [
        "import random\n",
        "número1=[random.randint(0,2000) for x in range(100)]\n",
        "número2=[random.randint(0,2000) for x in range(100)]\n",
        "comun=[x for x in número1 for y in número2 if x==y]\n",
        "print(comun)"
      ],
      "metadata": {
        "colab": {
          "base_uri": "https://localhost:8080/"
        },
        "id": "jsNF0WSZppgR",
        "outputId": "4bb551d8-9ec3-4b04-eebc-37f07091b4ed"
      },
      "execution_count": null,
      "outputs": [
        {
          "output_type": "stream",
          "name": "stdout",
          "text": [
            "[348, 1522, 1611, 1086, 432]\n"
          ]
        }
      ]
    },
    {
      "cell_type": "code",
      "source": [
        "import random\n",
        "número1=[random.randint(0,2000) for x in range(100)]\n",
        "número2=[random.randint(0,2000) for x in range(100)]\n",
        "comun=[]\n",
        "comun=list(filter(lambda num:num in número1,número2))\n",
        "print(comun)"
      ],
      "metadata": {
        "colab": {
          "base_uri": "https://localhost:8080/"
        },
        "id": "t9kbPMsfqE4u",
        "outputId": "6fbe06f9-9219-4cbe-d798-79b3639f35a2"
      },
      "execution_count": null,
      "outputs": [
        {
          "output_type": "stream",
          "name": "stdout",
          "text": [
            "[302, 1288, 673]\n"
          ]
        }
      ]
    },
    {
      "cell_type": "code",
      "source": [
        "def square1(num):\n",
        "  return num**2\n",
        "print(square1(5))"
      ],
      "metadata": {
        "colab": {
          "base_uri": "https://localhost:8080/"
        },
        "id": "63QIIPXCrrQC",
        "outputId": "b2406083-d9c6-4381-8b91-da44fc81f846"
      },
      "execution_count": null,
      "outputs": [
        {
          "output_type": "stream",
          "name": "stdout",
          "text": [
            "25\n"
          ]
        }
      ]
    },
    {
      "cell_type": "code",
      "source": [
        "L=[1,2,3,4]\n",
        "L2=[n**2 for n in L]\n",
        "print(L2)"
      ],
      "metadata": {
        "colab": {
          "base_uri": "https://localhost:8080/"
        },
        "id": "QnGbnVK0rQ7E",
        "outputId": "746f5c1d-490c-45ba-81fe-57cf8a6d3c56"
      },
      "execution_count": null,
      "outputs": [
        {
          "output_type": "stream",
          "name": "stdout",
          "text": [
            "[1, 4, 9, 16]\n"
          ]
        }
      ]
    },
    {
      "cell_type": "code",
      "source": [
        "lambda_func=lambda x:x**2\n",
        "lambda_func(3)"
      ],
      "metadata": {
        "colab": {
          "base_uri": "https://localhost:8080/"
        },
        "id": "EQB3zbTwrzwh",
        "outputId": "e09b351e-4386-4a4d-ce2e-c7020ca43005"
      },
      "execution_count": null,
      "outputs": [
        {
          "output_type": "execute_result",
          "data": {
            "text/plain": [
              "9"
            ]
          },
          "metadata": {},
          "execution_count": 27
        }
      ]
    },
    {
      "cell_type": "code",
      "source": [
        "nom1=['Samuelle','Angie','Valentina','Alejandro','Jonsito']\n",
        "nom2=['Samuelle','Andrea','Samdra','Anderson','Jonsito']\n",
        "def common(nom1,nom2):\n",
        "  return nom1,nom2\n",
        "nom1,nom2"
      ],
      "metadata": {
        "colab": {
          "base_uri": "https://localhost:8080/"
        },
        "id": "ipZPAUEYtzBO",
        "outputId": "5c0db646-877f-4ad5-b7c9-c862c161c874"
      },
      "execution_count": null,
      "outputs": [
        {
          "output_type": "execute_result",
          "data": {
            "text/plain": [
              "(['Samuelle', 'Angie', 'Valentina', 'Alejandro', 'Jonsito'],\n",
              " ['Samuelle', 'Andrea', 'Samdra', 'Anderson', 'Jonsito'])"
            ]
          },
          "metadata": {},
          "execution_count": 18
        }
      ]
    },
    {
      "cell_type": "code",
      "source": [
        "nom1=['Samuelle','Angie','Valentina','Alejandro','Jonsito']\n",
        "nom2=['Samuelle','Andrea','Samdra','Anderson','Jonsito']\n",
        "common={a for a in nom1 for b in nom2 if a==b}\n",
        "common"
      ],
      "metadata": {
        "colab": {
          "base_uri": "https://localhost:8080/"
        },
        "id": "ebRoWJalubkO",
        "outputId": "900dd208-cfac-43ed-f27b-ce73509c9ad2"
      },
      "execution_count": null,
      "outputs": [
        {
          "output_type": "execute_result",
          "data": {
            "text/plain": [
              "{'Jonsito', 'Samuelle'}"
            ]
          },
          "metadata": {},
          "execution_count": 19
        }
      ]
    },
    {
      "cell_type": "code",
      "source": [
        "nom1=['Samuelle','Angie','Valentina','Alejandro','Jonsito']\n",
        "nom2=['Samuelle','Andrea','Samdra','Anderson','Jonsito']\n",
        "common1=lambda nom1,nom2:common\n",
        "print(common1(nom1,nom2))"
      ],
      "metadata": {
        "colab": {
          "base_uri": "https://localhost:8080/"
        },
        "id": "AdgcLpBluurN",
        "outputId": "8e1ba230-9209-436f-a6dc-c48084027298"
      },
      "execution_count": null,
      "outputs": [
        {
          "output_type": "stream",
          "name": "stdout",
          "text": [
            "{'Samuelle', 'Jonsito'}\n"
          ]
        }
      ]
    },
    {
      "cell_type": "code",
      "source": [
        "def listaIMC(usuarios):\n",
        "  sis=[]\n",
        "  imc=[]\n",
        "  b=0\n",
        "  a2=0\n",
        "  for n in range(usuarios):\n",
        "    w=input(\"¿Cuál es tu nombre?\")\n",
        "    b=int(input(\"Ingresa el peso: \"))\n",
        "    a2=int(input(\"Ingresa la altura: \"))\n",
        "    sis.append((w,b/a2**2))\n",
        "    imc.append(b/a2**2)\n",
        "  return sis,imc\n",
        "user=int(input(\"¿Cuántos usuarios hay?: \"))\n",
        "sis,imc=listaIMC(user)\n",
        "imc"
      ],
      "metadata": {
        "colab": {
          "base_uri": "https://localhost:8080/"
        },
        "id": "M-7wa3wDwLsc",
        "outputId": "57b81206-fb77-492d-e96e-d34395308842"
      },
      "execution_count": null,
      "outputs": [
        {
          "name": "stdout",
          "output_type": "stream",
          "text": [
            "¿Cuántos usuarios hay?: 1\n",
            "¿Cuál es tu nombre?Jesus\n",
            "Ingresa el peso: 54\n",
            "Ingresa la altura: 170\n"
          ]
        },
        {
          "output_type": "execute_result",
          "data": {
            "text/plain": [
              "[0.0018685121107266437]"
            ]
          },
          "metadata": {},
          "execution_count": 25
        }
      ]
    },
    {
      "cell_type": "code",
      "source": [
        "sis=listaIMC(user)\n",
        "sis2=[n for n in imc if n>=18.5]\n",
        "print(sis2)"
      ],
      "metadata": {
        "colab": {
          "base_uri": "https://localhost:8080/"
        },
        "id": "3oA6ZkzFySYD",
        "outputId": "b5460d1c-81fa-4062-ed7d-f0d9b9ed07bf"
      },
      "execution_count": null,
      "outputs": [
        {
          "output_type": "stream",
          "name": "stdout",
          "text": [
            "¿Cuál es tu nombre?Jesus\n",
            "Ingresa el peso: 54\n",
            "Ingresa la altura: 170\n",
            "[]\n"
          ]
        }
      ]
    },
    {
      "cell_type": "code",
      "source": [
        "sis"
      ],
      "metadata": {
        "colab": {
          "base_uri": "https://localhost:8080/"
        },
        "id": "JYvmg_tNzN5L",
        "outputId": "c46ea237-d5b2-4045-fa73-e0e8827b0b42"
      },
      "execution_count": null,
      "outputs": [
        {
          "output_type": "execute_result",
          "data": {
            "text/plain": [
              "([('Jesus', 0.0018685121107266437)], [0.0018685121107266437])"
            ]
          },
          "metadata": {},
          "execution_count": 28
        }
      ]
    },
    {
      "cell_type": "code",
      "source": [
        "sis3=list(map(lambda x:\"peso insuficiente\" if x<18.5 else \"peso normal\" if (x>=18.5 and x<24.9) else \"sobrepeso\" if (x>=24.9 and x<30) else \"obesidad\",imc))\n",
        "sis3"
      ],
      "metadata": {
        "colab": {
          "base_uri": "https://localhost:8080/"
        },
        "id": "bSCEDHytzQXD",
        "outputId": "59263f11-50e1-4b45-bd90-a2713468ccfb"
      },
      "execution_count": null,
      "outputs": [
        {
          "output_type": "execute_result",
          "data": {
            "text/plain": [
              "['peso insuficiente']"
            ]
          },
          "metadata": {},
          "execution_count": 29
        }
      ]
    },
    {
      "cell_type": "code",
      "source": [
        "print(\"Ingresa su código: \")\n",
        "caracter=input()\n",
        "if len(caracter)==8:\n",
        "  if caracter[0]=='u':\n",
        "    print(\"Eres estudiante de la Unab\")\n",
        "  elif(caracter.starswith(\"a000\")):\n",
        "    print(\"Eres estudiante de los Andes\")\n",
        "  else:\n",
        "    if(int(caracter)>=1950):\n",
        "      print(\"Eres estudiante de la UIS\")\n",
        "else:\n",
        "  print(\"No corresponde a ninguna universidad, revisa tu código\")"
      ],
      "metadata": {
        "colab": {
          "base_uri": "https://localhost:8080/"
        },
        "id": "rmtgAs0jz41j",
        "outputId": "a1e46ffb-9b5b-4b37-c364-2cc868d0a05f"
      },
      "execution_count": null,
      "outputs": [
        {
          "output_type": "stream",
          "name": "stdout",
          "text": [
            "Ingresa su código: \n",
            "u00158095\n",
            "No corresponde a ninguna universidad, revisa tu código\n"
          ]
        }
      ]
    }
  ]
}