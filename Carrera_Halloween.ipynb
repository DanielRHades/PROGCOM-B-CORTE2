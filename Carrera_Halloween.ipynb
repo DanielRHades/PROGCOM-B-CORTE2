{
  "nbformat": 4,
  "nbformat_minor": 0,
  "metadata": {
    "colab": {
      "provenance": []
    },
    "kernelspec": {
      "name": "python3",
      "display_name": "Python 3"
    },
    "language_info": {
      "name": "python"
    }
  },
  "cells": [
    {
      "cell_type": "markdown",
      "source": [
        "##Parte 1\n",
        "\n",
        "Crear un porgrama al que se le indique si se desea realizar \"truco o trato\" y un listado de persona (array) con:\n",
        "\n",
        "*Nombre\n",
        "\n",
        "*Edad\n",
        "\n",
        "*Altura en centímetros\n",
        "\n",
        "##Parte 2 (Ruta B)\n",
        "\n",
        "Si las personas han pedido trato, el programa retornara dulces (aleatorios) siguiendo los siguientes criterios:\n",
        "\n",
        "*Un dulce por cada letra de nombre\n",
        "\n",
        "*Un dulce por cada 3 años cumplidos hasta un máximo de 10 años por persona\n",
        "\n",
        "*Dos dulces por cada 50cm de altura hasta un máximo de 150cm por persona"
      ],
      "metadata": {
        "id": "SX6F9poHF42e"
      }
    },
    {
      "cell_type": "code",
      "execution_count": 8,
      "metadata": {
        "id": "6HrlfEN6D3yY"
      },
      "outputs": [],
      "source": [
        "import random\n",
        "import math\n",
        "emojis=\"🍭🍬🍫🧁\"\n",
        "\n",
        "class Persona():\n",
        "  def __init__(self,nombre,edad,altura,):\n",
        "    self.nombre=nombre\n",
        "    self.edad=edad\n",
        "    self.altura=altura\n",
        " \n",
        "  def opcion(self,accion):\n",
        "    if accion==\"truco\":\n",
        "      print(\"Troliado por chistoso UwU\")\n",
        "      print(primera.__dict__)\n",
        "    elif accion==\"trato\":\n",
        "      contar=0\n",
        "      for i in self.nombre:\n",
        "        contar+=1\n",
        "      if self.edad>=10:\n",
        "        contar+=3\n",
        "      else:\n",
        "        contar+=math.floor(self.edad/3)\n",
        "      if self.altura>=150:\n",
        "        contar+=6\n",
        "      else:\n",
        "            contar+=2*math.floor(self.altura/50)\n",
        "\n",
        "      print(f'{contar} dulces')\n",
        "      print(\"\".join(random.choice(emojis) for i in range(contar)))\n",
        "      print(primera.__dict__)"
      ]
    },
    {
      "cell_type": "code",
      "source": [
        "while True:\n",
        "  print(\"}-----------------------------------{\")\n",
        "  nombre2=str(input(\"Ingrese el nombre: \"))\n",
        "  nombre2=nombre2.capitalize()\n",
        "  edad2=int(input(\"Ingrese la edad: \"))\n",
        "  alturita=int(input(\"Ingrese la altura en centímetros: \"))\n",
        "  primera=Persona(nombre2,edad2,alturita)\n",
        "  print(\"¿Qué quiere hacer? [Truco o trato]\")\n",
        "  a=str(input(\"Ingrese la acción que desea realizar: \"))\n",
        "  a=a.lower()\n",
        "  while a!=\"truco\" and a!=\"trato\":\n",
        "    a=str(input(\"Ingrese una acción válida: \"))\n",
        "    a=a.lower()\n",
        "  primera.opcion(a)\n",
        "  print(\"}-----------------------------------{\")\n",
        "  print(\"¿Hay más personas pidiendo dulces?\")\n",
        "  eleccion=str(input(\"Si->si / No->no: \"))\n",
        "  while eleccion!=\"si\" and eleccion!=\"no\":\n",
        "    print(\"Ingrese una opción válida\")\n",
        "    eleccion=str(input(\"Si->si / No->no: \"))\n",
        "  if eleccion==\"no\":\n",
        "    print(\"Feliz Halloween🎃\")\n",
        "    break"
      ],
      "metadata": {
        "id": "NDMkziMqD5vr"
      },
      "execution_count": null,
      "outputs": []
    }
  ]
}