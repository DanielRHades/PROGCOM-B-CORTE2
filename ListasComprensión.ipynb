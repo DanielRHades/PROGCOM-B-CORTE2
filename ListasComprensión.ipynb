{
  "nbformat": 4,
  "nbformat_minor": 0,
  "metadata": {
    "colab": {
      "provenance": []
    },
    "kernelspec": {
      "name": "python3",
      "display_name": "Python 3"
    },
    "language_info": {
      "name": "python"
    }
  },
  "cells": [
    {
      "cell_type": "markdown",
      "source": [
        "#Listas por comprensión\n",
        "\n",
        "Explicación\n",
        "\n",
        "\n"
      ],
      "metadata": {
        "id": "Lf4vG7zWl5zy"
      }
    },
    {
      "cell_type": "code",
      "source": [
        "#Samuelle\n",
        "numbers = [1, 2, 3, 4]\n",
        "results = []\n",
        "for n in numbers:\n",
        "  results.append(n+1)\n",
        "results"
      ],
      "metadata": {
        "colab": {
          "base_uri": "https://localhost:8080/"
        },
        "id": "zyd6zczSsKy4",
        "outputId": "56cc1804-d042-440e-a173-b35fa8c6f426"
      },
      "execution_count": 16,
      "outputs": [
        {
          "output_type": "execute_result",
          "data": {
            "text/plain": [
              "[2, 3, 4, 5]"
            ]
          },
          "metadata": {},
          "execution_count": 16
        }
      ]
    },
    {
      "cell_type": "code",
      "source": [
        "#Samuelle\n",
        "numbers = [1, 2, 3, 4]\n",
        "results = [n + 1 for n in numbers if n < 5]\n",
        "results"
      ],
      "metadata": {
        "colab": {
          "base_uri": "https://localhost:8080/"
        },
        "id": "SfIre4FOsZu2",
        "outputId": "be8da7c8-8fef-4313-aa7d-b73259c34fea"
      },
      "execution_count": 15,
      "outputs": [
        {
          "output_type": "execute_result",
          "data": {
            "text/plain": [
              "[2, 3, 4, 5]"
            ]
          },
          "metadata": {},
          "execution_count": 15
        }
      ]
    },
    {
      "cell_type": "code",
      "source": [
        "#Samuelle\n",
        "results2 = lambda numbers : results\n",
        "print(results2(numbers))"
      ],
      "metadata": {
        "colab": {
          "base_uri": "https://localhost:8080/"
        },
        "id": "NYgmtdphss6O",
        "outputId": "81c72d5c-284c-484e-fc63-b1c7111bd226"
      },
      "execution_count": 17,
      "outputs": [
        {
          "output_type": "stream",
          "name": "stdout",
          "text": [
            "[2, 3, 4, 5]\n"
          ]
        }
      ]
    },
    {
      "cell_type": "code",
      "source": [
        "#Jesus\n",
        "n=int(input(\"Hasta que número quieres imprimir los pares e impares: \"))\n",
        "pares=[número for número in range(0,n+1) if número%2==0]\n",
        "print(pares)\n",
        "impares=[número for número in range(0,n+1) if número%2!=0]\n",
        "print(impares)"
      ],
      "metadata": {
        "id": "XTQqJo_vmCnA",
        "colab": {
          "base_uri": "https://localhost:8080/"
        },
        "outputId": "291b1078-0f53-4e8b-a43a-92fed304168e"
      },
      "execution_count": 11,
      "outputs": [
        {
          "output_type": "stream",
          "name": "stdout",
          "text": [
            "Hasta que número quieres imprimir los pares e impares: 20\n",
            "[0, 2, 4, 6, 8, 10, 12, 14, 16, 18, 20]\n",
            "[1, 3, 5, 7, 9, 11, 13, 15, 17, 19]\n"
          ]
        }
      ]
    },
    {
      "cell_type": "code",
      "source": [
        "#Jesus\n",
        "num=int(input(\"Hasta que número quieres imprimir los pares e impares: \"))\n",
        "def hola(n): \n",
        " pares=[número for número in range(0,n+1) if número%2==0]\n",
        " print(pares)\n",
        " impares=[número for número in range(0,n+1) if número%2!=0]\n",
        " print(impares)\n",
        "hola(num)"
      ],
      "metadata": {
        "id": "8o8uLBElmguo",
        "colab": {
          "base_uri": "https://localhost:8080/"
        },
        "outputId": "6b35fe38-f674-4816-c90c-68958375a248"
      },
      "execution_count": 12,
      "outputs": [
        {
          "output_type": "stream",
          "name": "stdout",
          "text": [
            "Hasta que número quieres imprimir los pares e impares: 20\n",
            "[0, 2, 4, 6, 8, 10, 12, 14, 16, 18, 20]\n",
            "[1, 3, 5, 7, 9, 11, 13, 15, 17, 19]\n"
          ]
        }
      ]
    },
    {
      "cell_type": "code",
      "source": [
        "#Jesus\n",
        "num=int(input(\"Hasta que número quieres imprimir los pares e impares: \"))\n",
        "mi_lista=[n for n in range(0,num+1)]\n",
        "pares=list(filter(lambda num: num%2==0,mi_lista))\n",
        "print(pares)\n",
        "impares=list(filter(lambda num: num%2!=0,mi_lista))\n",
        "print(impares)"
      ],
      "metadata": {
        "id": "3YAkrFrSmpVm",
        "colab": {
          "base_uri": "https://localhost:8080/"
        },
        "outputId": "4671dd65-6a91-4221-f5e6-6128087343eb"
      },
      "execution_count": 13,
      "outputs": [
        {
          "output_type": "stream",
          "name": "stdout",
          "text": [
            "Hasta que número quieres imprimir los pares e impares: 20\n",
            "[0, 2, 4, 6, 8, 10, 12, 14, 16, 18, 20]\n",
            "[1, 3, 5, 7, 9, 11, 13, 15, 17, 19]\n"
          ]
        }
      ]
    },
    {
      "cell_type": "code",
      "source": [
        "#Jhon\n",
        "def perfecto(numero):\n",
        "  perf=0\n",
        "  for i in range(1,numero):\n",
        "    if numero %i==0:\n",
        "      perf+=i\n",
        "  if perf==numero:\n",
        "    print(\"Es numero perfecto\")\n",
        "    return True\n",
        "  else:\n",
        "    print(\"No es numero perfecto\")\n",
        "perfecto(6)\n"
      ],
      "metadata": {
        "id": "YUI-9cAspZjG",
        "colab": {
          "base_uri": "https://localhost:8080/"
        },
        "outputId": "4f89e614-c0e5-4db6-db90-c22841d2d28e"
      },
      "execution_count": 8,
      "outputs": [
        {
          "output_type": "stream",
          "name": "stdout",
          "text": [
            "Es numero perfecto\n"
          ]
        },
        {
          "output_type": "execute_result",
          "data": {
            "text/plain": [
              "True"
            ]
          },
          "metadata": {},
          "execution_count": 8
        }
      ]
    },
    {
      "cell_type": "code",
      "source": [
        "#Jhon\n",
        "perfect=[1,2,3,4,5,6]\n",
        "perfect1=[elemento for elemento in perfect if perfecto(elemento)==True]"
      ],
      "metadata": {
        "colab": {
          "base_uri": "https://localhost:8080/"
        },
        "id": "xAzIeht8roNB",
        "outputId": "2acd7907-b286-4fb9-8206-fc7e5cc9d086"
      },
      "execution_count": 9,
      "outputs": [
        {
          "output_type": "stream",
          "name": "stdout",
          "text": [
            "No es numero perfecto\n",
            "No es numero perfecto\n",
            "No es numero perfecto\n",
            "No es numero perfecto\n",
            "No es numero perfecto\n",
            "Es numero perfecto\n"
          ]
        }
      ]
    },
    {
      "cell_type": "code",
      "source": [
        "#Jhon\n",
        "perfect2=list(map(lambda elemento:perfecto(elemento)==True,perfect))\n",
        "perfect2"
      ],
      "metadata": {
        "colab": {
          "base_uri": "https://localhost:8080/"
        },
        "id": "9jQBApx5r4KQ",
        "outputId": "bc843541-5acd-48e5-e0f1-1b1fe026220c"
      },
      "execution_count": 10,
      "outputs": [
        {
          "output_type": "stream",
          "name": "stdout",
          "text": [
            "No es numero perfecto\n",
            "No es numero perfecto\n",
            "No es numero perfecto\n",
            "No es numero perfecto\n",
            "No es numero perfecto\n",
            "Es numero perfecto\n"
          ]
        },
        {
          "output_type": "execute_result",
          "data": {
            "text/plain": [
              "[False, False, False, False, False, True]"
            ]
          },
          "metadata": {},
          "execution_count": 10
        }
      ]
    }
  ]
}